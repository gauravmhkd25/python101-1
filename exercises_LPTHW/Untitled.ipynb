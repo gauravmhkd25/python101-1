{
 "cells": [
  {
   "cell_type": "code",
   "execution_count": 1,
   "metadata": {},
   "outputs": [],
   "source": [
    "import sys"
   ]
  },
  {
   "cell_type": "code",
   "execution_count": 2,
   "metadata": {},
   "outputs": [
    {
     "data": {
      "text/plain": [
       "['-f',\n",
       " '/Users/KaviAnu/Library/Jupyter/runtime/kernel-f236febf-9211-4612-b576-44ef864b1c05.json']"
      ]
     },
     "execution_count": 2,
     "metadata": {},
     "output_type": "execute_result"
    }
   ],
   "source": [
    "sys.argv[1:]\n"
   ]
  },
  {
   "cell_type": "code",
   "execution_count": 32,
   "metadata": {},
   "outputs": [
    {
     "name": "stdout",
     "output_type": "stream",
     "text": [
      "list:  None\n",
      "string:  None\n",
      "DEBUG---1---  racecars\n",
      "DEBUG---2---  racecars\n",
      "key is value is : a 2\n",
      "key is value is : s 1\n",
      "index is :  1\n",
      "K is :  s\n",
      "value is : 1\n",
      "s\n"
     ]
    }
   ],
   "source": [
    "class Algo:\n",
    "    \n",
    "    def __init__(self, int_list=None, string=None):\n",
    "        self.int_list = int_list\n",
    "        self.string = string\n",
    "        print(\"list: \" ,self.int_list )\n",
    "        print(\"string: \", self.string)\n",
    "        \n",
    "    def secSmallestNumber(self, int_list=None):\n",
    "        \n",
    "        if (int_list is not None):\n",
    "            self.int_list = int_list\n",
    "            \n",
    "        print(\"DEBUG---1--- \", self.int_list) \n",
    "        \n",
    "        \n",
    "        ele1 = 99999999 \n",
    "        ele2 = 99999999\n",
    "        for item in self.int_list:\n",
    "            ele2 = ele1\n",
    "            if (ele2 > item):\n",
    "                ele2=item\n",
    "            else:\n",
    "                ele1=item\n",
    "        \n",
    "        return ele2\n",
    "    \n",
    "    \n",
    "    def findFirstNonRepeatedChar(self, string= None): \n",
    "        char_count={}\n",
    "        \n",
    "        print(\"DEBUG---1--- \", string) \n",
    "            \n",
    "        if (string is not None):\n",
    "            self.string = string\n",
    "       \n",
    "        print(\"DEBUG---2--- \", self.string) \n",
    "\n",
    "        for i in self.string:\n",
    "            try:\n",
    "                char_count[i]= char_count.pop(i)+1\n",
    "            except:\n",
    "                char_count[i]=1\n",
    "            \n",
    "        for index,k in enumerate(char_count):\n",
    "            print(\"key is value is :\", k, char_count.get(k))\n",
    "\n",
    "            if char_count.get(k) == 1:\n",
    "                print(\"index is : \" , index) \n",
    "\n",
    "                print(\"K is : \" , k) \n",
    "                print(\"value is :\", char_count.get(k))\n",
    "                return k\n",
    "\n",
    "\n",
    "\n",
    "\n",
    "\n",
    "   \n",
    "        \n",
    "list_1 = [0 , -1, 1 , 2]\n",
    "string = 'racecars'\n",
    "#obj = Algo(list_1, string)  \n",
    "obj = Algo() \n",
    "# print(obj.secSmallestNumber(list_1))\n",
    "print(obj.findFirstNonRepeatedChar(string))"
   ]
  },
  {
   "cell_type": "code",
   "execution_count": 33,
   "metadata": {},
   "outputs": [],
   "source": [
    "class X: pass\n",
    "class Y: pass\n",
    "class Z: pass\n"
   ]
  },
  {
   "cell_type": "code",
   "execution_count": 34,
   "metadata": {},
   "outputs": [],
   "source": [
    "class A(X,Y): pass\n",
    "class B(Y,Z): pass\n",
    "\n",
    "class M(B,A,Z): pass"
   ]
  },
  {
   "cell_type": "code",
   "execution_count": 35,
   "metadata": {},
   "outputs": [
    {
     "data": {
      "text/plain": [
       "<__main__.A at 0x106968668>"
      ]
     },
     "execution_count": 35,
     "metadata": {},
     "output_type": "execute_result"
    }
   ],
   "source": [
    "a =A()\n",
    "a"
   ]
  },
  {
   "cell_type": "code",
   "execution_count": 37,
   "metadata": {},
   "outputs": [],
   "source": [
    "class Computer:\n",
    "    def __init__(self):\n",
    "        self.__maxprice = 900\n",
    "\n",
    "    def sell(self):\n",
    "        print(\"Selling Price: {}\".format(self.__maxprice))\n",
    "\n",
    "    def setMaxPrice(self, price):\n",
    "        self.__maxprice = price"
   ]
  },
  {
   "cell_type": "code",
   "execution_count": 38,
   "metadata": {},
   "outputs": [
    {
     "name": "stdout",
     "output_type": "stream",
     "text": [
      "Selling Price: 900\n"
     ]
    }
   ],
   "source": [
    "c = Computer()\n",
    "c.sell()\n"
   ]
  },
  {
   "cell_type": "code",
   "execution_count": 39,
   "metadata": {},
   "outputs": [],
   "source": [
    "c.__maxprice = 1000\n"
   ]
  },
  {
   "cell_type": "code",
   "execution_count": 40,
   "metadata": {},
   "outputs": [
    {
     "data": {
      "text/plain": [
       "1000"
      ]
     },
     "execution_count": 40,
     "metadata": {},
     "output_type": "execute_result"
    }
   ],
   "source": [
    "c.__maxprice"
   ]
  },
  {
   "cell_type": "code",
   "execution_count": 42,
   "metadata": {},
   "outputs": [
    {
     "name": "stdout",
     "output_type": "stream",
     "text": [
      "Selling Price: 1000\n"
     ]
    }
   ],
   "source": [
    "c.setMaxPrice(1000)\n",
    "c.sell()"
   ]
  },
  {
   "cell_type": "code",
   "execution_count": 43,
   "metadata": {},
   "outputs": [
    {
     "name": "stdout",
     "output_type": "stream",
     "text": [
      "Parrot can fly\n",
      "Penguin can't fly\n"
     ]
    }
   ],
   "source": [
    "class Parrot:\n",
    "\n",
    "    def fly(self):\n",
    "        print(\"Parrot can fly\")\n",
    "    \n",
    "    def swim(self):\n",
    "        print(\"Parrot can't swim\")\n",
    "\n",
    "class Penguin:\n",
    "\n",
    "    def fly(self):\n",
    "        print(\"Penguin can't fly\")\n",
    "    \n",
    "    def swim(self):\n",
    "        print(\"Penguin can swim\")\n",
    "\n",
    "# common interface\n",
    "def flying_test(bird):\n",
    "    bird.fly()\n",
    "\n",
    "#instantiate objects\n",
    "blu = Parrot()\n",
    "peggy = Penguin()\n",
    "\n",
    "# passing the object\n",
    "flying_test(blu)\n",
    "flying_test(peggy)"
   ]
  },
  {
   "cell_type": "code",
   "execution_count": null,
   "metadata": {},
   "outputs": [],
   "source": []
  }
 ],
 "metadata": {
  "kernelspec": {
   "display_name": "Python 3",
   "language": "python",
   "name": "python3"
  },
  "language_info": {
   "codemirror_mode": {
    "name": "ipython",
    "version": 3
   },
   "file_extension": ".py",
   "mimetype": "text/x-python",
   "name": "python",
   "nbconvert_exporter": "python",
   "pygments_lexer": "ipython3",
   "version": "3.5.1"
  }
 },
 "nbformat": 4,
 "nbformat_minor": 2
}
